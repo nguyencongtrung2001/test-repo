{
  "nbformat": 4,
  "nbformat_minor": 0,
  "metadata": {
    "colab": {
      "provenance": [],
      "authorship_tag": "ABX9TyPKcFqYYloGz8TZjq/WcwWY",
      "include_colab_link": true
    },
    "kernelspec": {
      "name": "python3",
      "display_name": "Python 3"
    },
    "language_info": {
      "name": "python"
    }
  },
  "cells": [
    {
      "cell_type": "markdown",
      "metadata": {
        "id": "view-in-github",
        "colab_type": "text"
      },
      "source": [
        "<a href=\"https://colab.research.google.com/github/nguyencongtrung2001/test-repo/blob/master/Practice.ipynb\" target=\"_parent\"><img src=\"https://colab.research.google.com/assets/colab-badge.svg\" alt=\"Open In Colab\"/></a>"
      ]
    },
    {
      "cell_type": "code",
      "execution_count": null,
      "metadata": {
        "id": "ZTnXgGZfaLUv"
      },
      "outputs": [],
      "source": [
        "print(\"dhgjfbduibvdkjdbv kđsb v\")\n",
        "def plus(a,b):\n",
        "  return a+b\n",
        "\n",
        "print(plus(1,2))"
      ]
    }
  ]
}